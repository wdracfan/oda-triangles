{
  "cells": [
    {
      "cell_type": "markdown",
      "metadata": {},
      "source": [
        "### Сборка apk-файла из приложения Kivy\n",
        "\n",
        "Запустить две следующие ячейки:"
      ]
    },
    {
      "cell_type": "code",
      "execution_count": null,
      "metadata": {
        "colab": {
          "base_uri": "https://localhost:8080/"
        },
        "id": "GmVjMrxANcY1",
        "outputId": "ba555968-3e78-49af-9006-55d701d6496a"
      },
      "outputs": [],
      "source": [
        "!pip install buildozer\n",
        "!pip install cython==0.29.33\n",
        "!apt install -y \\\n",
        "    python3-pip \\\n",
        "    build-essential \\\n",
        "    git \\\n",
        "    python3 \\\n",
        "    python3-dev \\\n",
        "    ffmpeg \\\n",
        "    libsdl2-dev \\\n",
        "    libsdl2-image-dev \\\n",
        "    libsdl2-mixer-dev \\\n",
        "    libsdl2-ttf-dev \\\n",
        "    libportmidi-dev \\\n",
        "    libswscale-dev \\\n",
        "    libavformat-dev \\\n",
        "    libavcodec-dev \\\n",
        "    zlib1g-dev\n",
        "!apt install -y \\\n",
        "    libgstreamer1.0 \\\n",
        "    gstreamer1.0-plugins-base \\\n",
        "    gstreamer1.0-plugins-good\n",
        "!apt install build-essential libsqlite3-dev sqlite3 bzip2 libbz2-dev zlib1g-dev libssl-dev openssl libgdbm-dev libgdbm-compat-dev liblzma-dev libreadline-dev libncursesw5-dev libffi-dev uuid-dev libffi6\n",
        "!apt install libffi-dev\n",
        "!pip install kivy\n",
        "!apt install ldd"
      ]
    },
    {
      "cell_type": "code",
      "execution_count": null,
      "metadata": {
        "colab": {
          "base_uri": "https://localhost:8080/"
        },
        "id": "27KWpiNXTtuF",
        "outputId": "d0ea8bb5-6f1d-4acf-aa99-c9043aeb1392"
      },
      "outputs": [],
      "source": [
        "!apt-get install libtool\n",
        "!sudo apt install -y git zip unzip openjdk-17-jdk python3-pip autoconf libtool pkg-config zlib1g-dev libncurses5-dev libncursesw5-dev libtinfo5 cmake libffi-dev libssl-dev"
      ]
    },
    {
      "cell_type": "markdown",
      "metadata": {},
      "source": [
        "Поместить в \"Файлы\" все файлы проекта (`main.py`, логотип и др.) и запустить следующую ячейку:"
      ]
    },
    {
      "cell_type": "code",
      "execution_count": null,
      "metadata": {
        "colab": {
          "base_uri": "https://localhost:8080/"
        },
        "id": "_CYNCr6xN-AN",
        "outputId": "57c15651-e6f1-4cce-b92e-2ada08785b14"
      },
      "outputs": [],
      "source": [
        "!buildozer init"
      ]
    },
    {
      "cell_type": "markdown",
      "metadata": {},
      "source": [
        "Создастся файл `buildozer.spec`. В нём надо отредактировать следующие строки:\n",
        "```\n",
        "# (str) Title of your application\n",
        "title = Oda's triangles\n",
        "\n",
        "# (str) Package name\n",
        "package.name = odas-triangles\n",
        "\n",
        "# (list) Source files to include (leave empty to include all the files)\n",
        "source.include_exts = py\n",
        "\n",
        "# (str) Icon of the application\n",
        "icon.filename = icon.png # путь к логотипу, если он есть\n",
        "```"
      ]
    },
    {
      "cell_type": "code",
      "execution_count": null,
      "metadata": {
        "colab": {
          "base_uri": "https://localhost:8080/"
        },
        "id": "bgoVNaDIT3nb",
        "outputId": "18e85ebc-5269-42a8-d6ef-6d45d68216c5"
      },
      "outputs": [],
      "source": [
        "# эту ячейку имеет смысл запускать перед следующей только при повторных попытках\n",
        "!buildozer android clean"
      ]
    },
    {
      "cell_type": "markdown",
      "metadata": {},
      "source": [
        "Запустить следующую ячейку и долго ждать... :)"
      ]
    },
    {
      "cell_type": "code",
      "execution_count": null,
      "metadata": {
        "colab": {
          "base_uri": "https://localhost:8080/"
        },
        "id": "Et9JH_ZiOC6j",
        "outputId": "172dcfca-63a9-45a3-b125-82dbb4b86e3d"
      },
      "outputs": [],
      "source": [
        "!buildozer -v android debug"
      ]
    }
  ],
  "metadata": {
    "colab": {
      "provenance": []
    },
    "kernelspec": {
      "display_name": "Python 3",
      "name": "python3"
    },
    "language_info": {
      "name": "python"
    }
  },
  "nbformat": 4,
  "nbformat_minor": 0
}
